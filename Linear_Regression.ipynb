{
  "nbformat": 4,
  "nbformat_minor": 0,
  "metadata": {
    "colab": {
      "provenance": [],
      "authorship_tag": "ABX9TyOtxwY6JBoJ5VSY7qJmRpBv",
      "include_colab_link": true
    },
    "kernelspec": {
      "name": "python3",
      "display_name": "Python 3"
    },
    "language_info": {
      "name": "python"
    }
  },
  "cells": [
    {
      "cell_type": "markdown",
      "metadata": {
        "id": "view-in-github",
        "colab_type": "text"
      },
      "source": [
        "<a href=\"https://colab.research.google.com/github/pedro-pauletti/deeplearning-pytorch/blob/main/Linear_Regression.ipynb\" target=\"_parent\"><img src=\"https://colab.research.google.com/assets/colab-badge.svg\" alt=\"Open In Colab\"/></a>"
      ]
    },
    {
      "cell_type": "code",
      "execution_count": 1,
      "metadata": {
        "colab": {
          "base_uri": "https://localhost:8080/"
        },
        "id": "gxCt4n3gX3lV",
        "outputId": "d66e95ca-a521-40d8-fd08-da7624f81f18"
      },
      "outputs": [
        {
          "output_type": "stream",
          "name": "stdout",
          "text": [
            "Requirement already satisfied: torch in /usr/local/lib/python3.10/dist-packages (2.0.1+cu118)\n",
            "Requirement already satisfied: filelock in /usr/local/lib/python3.10/dist-packages (from torch) (3.12.2)\n",
            "Requirement already satisfied: typing-extensions in /usr/local/lib/python3.10/dist-packages (from torch) (4.6.3)\n",
            "Requirement already satisfied: sympy in /usr/local/lib/python3.10/dist-packages (from torch) (1.11.1)\n",
            "Requirement already satisfied: networkx in /usr/local/lib/python3.10/dist-packages (from torch) (3.1)\n",
            "Requirement already satisfied: jinja2 in /usr/local/lib/python3.10/dist-packages (from torch) (3.1.2)\n",
            "Requirement already satisfied: triton==2.0.0 in /usr/local/lib/python3.10/dist-packages (from torch) (2.0.0)\n",
            "Requirement already satisfied: cmake in /usr/local/lib/python3.10/dist-packages (from triton==2.0.0->torch) (3.25.2)\n",
            "Requirement already satisfied: lit in /usr/local/lib/python3.10/dist-packages (from triton==2.0.0->torch) (16.0.6)\n",
            "Requirement already satisfied: MarkupSafe>=2.0 in /usr/local/lib/python3.10/dist-packages (from jinja2->torch) (2.1.3)\n",
            "Requirement already satisfied: mpmath>=0.19 in /usr/local/lib/python3.10/dist-packages (from sympy->torch) (1.3.0)\n"
          ]
        }
      ],
      "source": [
        "!pip3 install torch"
      ]
    },
    {
      "cell_type": "code",
      "source": [
        "import torch\n",
        "import matplotlib.pyplot as plt\n",
        "import numpy as np"
      ],
      "metadata": {
        "id": "pi3TpqJrZPcc"
      },
      "execution_count": 2,
      "outputs": []
    },
    {
      "cell_type": "markdown",
      "source": [
        "### Making Predictions"
      ],
      "metadata": {
        "id": "ersnYvazaAWL"
      }
    },
    {
      "cell_type": "code",
      "source": [
        "w = torch.tensor(3.0, requires_grad=True)\n",
        "b = torch.tensor(1.0, requires_grad=True)"
      ],
      "metadata": {
        "id": "gOAyDmIaZRdl"
      },
      "execution_count": 3,
      "outputs": []
    },
    {
      "cell_type": "code",
      "source": [
        "def forward(x):\n",
        "  y = w*x + b\n",
        "  return y"
      ],
      "metadata": {
        "id": "7PM_ffzAZaop"
      },
      "execution_count": 4,
      "outputs": []
    },
    {
      "cell_type": "code",
      "source": [
        "#Making predictions\n",
        "x = torch.tensor(2)\n",
        "forward(x)"
      ],
      "metadata": {
        "colab": {
          "base_uri": "https://localhost:8080/"
        },
        "id": "RgaolUquZh1n",
        "outputId": "1bc283e1-67da-4fba-cefb-a8dd900060a3"
      },
      "execution_count": 5,
      "outputs": [
        {
          "output_type": "execute_result",
          "data": {
            "text/plain": [
              "tensor(7., grad_fn=<AddBackward0>)"
            ]
          },
          "metadata": {},
          "execution_count": 5
        }
      ]
    },
    {
      "cell_type": "code",
      "source": [
        "x = torch.tensor([[4], [7]])\n",
        "forward(x)"
      ],
      "metadata": {
        "colab": {
          "base_uri": "https://localhost:8080/"
        },
        "id": "NVnz5LrjZyBE",
        "outputId": "671a5ae6-36b4-44a1-e302-ce84b484de47"
      },
      "execution_count": 6,
      "outputs": [
        {
          "output_type": "execute_result",
          "data": {
            "text/plain": [
              "tensor([[13.],\n",
              "        [22.]], grad_fn=<AddBackward0>)"
            ]
          },
          "metadata": {},
          "execution_count": 6
        }
      ]
    },
    {
      "cell_type": "markdown",
      "source": [
        "### Linear Class"
      ],
      "metadata": {
        "id": "y4IheWpBaC_i"
      }
    },
    {
      "cell_type": "markdown",
      "source": [
        "Standardized way of constructing a linear model"
      ],
      "metadata": {
        "id": "03eq68vga_hV"
      }
    },
    {
      "cell_type": "code",
      "source": [
        "from torch.nn import Linear"
      ],
      "metadata": {
        "id": "oeYZDvRMaFGA"
      },
      "execution_count": 7,
      "outputs": []
    },
    {
      "cell_type": "code",
      "source": [
        "torch.manual_seed(1)\n",
        "model = Linear(in_features=1, out_features=1)\n",
        "print(model.bias, model.weight)"
      ],
      "metadata": {
        "colab": {
          "base_uri": "https://localhost:8080/"
        },
        "id": "im1Vs1cWaXwG",
        "outputId": "bf278eff-adb1-4d30-cd9e-29b0effd494e"
      },
      "execution_count": 8,
      "outputs": [
        {
          "output_type": "stream",
          "name": "stdout",
          "text": [
            "Parameter containing:\n",
            "tensor([-0.4414], requires_grad=True) Parameter containing:\n",
            "tensor([[0.5153]], requires_grad=True)\n"
          ]
        }
      ]
    },
    {
      "cell_type": "code",
      "source": [
        "x = torch.tensor([[2.0], [3.3]])\n",
        "print(model(x))"
      ],
      "metadata": {
        "colab": {
          "base_uri": "https://localhost:8080/"
        },
        "id": "UYWG8E_Kasrr",
        "outputId": "e60578b2-49c3-4c11-cc1e-45216b0828a6"
      },
      "execution_count": 9,
      "outputs": [
        {
          "output_type": "stream",
          "name": "stdout",
          "text": [
            "tensor([[0.5891],\n",
            "        [1.2590]], grad_fn=<AddmmBackward0>)\n"
          ]
        }
      ]
    },
    {
      "cell_type": "markdown",
      "source": [
        "### Creating Dataset and Custom Models"
      ],
      "metadata": {
        "id": "wHpYzjnmdu1A"
      }
    },
    {
      "cell_type": "code",
      "source": [
        "X = torch.randn(100, 1)*10\n",
        "y = X + 3*torch.randn(100, 1)\n",
        "plt.plot(X.numpy(), y.numpy(), 'o')\n",
        "plt.ylabel('y')\n",
        "plt.xlabel('x')"
      ],
      "metadata": {
        "colab": {
          "base_uri": "https://localhost:8080/",
          "height": 467
        },
        "id": "uiD1cqKHdzWn",
        "outputId": "282d433d-6bbf-45d7-83a9-f5e1c4bb7580"
      },
      "execution_count": 10,
      "outputs": [
        {
          "output_type": "execute_result",
          "data": {
            "text/plain": [
              "Text(0.5, 0, 'x')"
            ]
          },
          "metadata": {},
          "execution_count": 10
        },
        {
          "output_type": "display_data",
          "data": {
            "text/plain": [
              "<Figure size 640x480 with 1 Axes>"
            ],
            "image/png": "[encoded data removed]"
          },
          "metadata": {}
        }
      ]
    },
    {
      "cell_type": "code",
      "source": [
        "import torch.nn as nn\n",
        "\n",
        "class LR(nn.Module):\n",
        "  def __init__(self, input_size, output_size):\n",
        "    super().__init__()\n",
        "    self.linear = nn.Linear(input_size, output_size)\n",
        "  def forward(self, x):\n",
        "    pred = self.linear(x)\n",
        "    return pred"
      ],
      "metadata": {
        "id": "gKbLdDozbUR8"
      },
      "execution_count": 11,
      "outputs": []
    },
    {
      "cell_type": "code",
      "source": [
        "torch.manual_seed(1)\n",
        "model = LR(1, 1)\n",
        "print(model)"
      ],
      "metadata": {
        "colab": {
          "base_uri": "https://localhost:8080/"
        },
        "id": "08mXtCHPcQvT",
        "outputId": "63d67a5f-b99f-492a-a447-c16f666d49b1"
      },
      "execution_count": 12,
      "outputs": [
        {
          "output_type": "stream",
          "name": "stdout",
          "text": [
            "LR(\n",
            "  (linear): Linear(in_features=1, out_features=1, bias=True)\n",
            ")\n"
          ]
        }
      ]
    },
    {
      "cell_type": "code",
      "source": [
        "[w, b] = model.parameters()\n",
        "def get_params():\n",
        "  return (w[0][0].item(), b[0].item())"
      ],
      "metadata": {
        "id": "OTcj8BNqfEXT"
      },
      "execution_count": 13,
      "outputs": []
    },
    {
      "cell_type": "code",
      "source": [
        "def plot_fit(title):\n",
        "  plt.title = title\n",
        "  w1, b1 = get_params()\n",
        "  x1 = np.array([-30, 30])\n",
        "  y1 = w1*x1 + b1\n",
        "  plt.plot(x1, y1, 'r')\n",
        "  plt.scatter(X, y)\n",
        "  plt.show()"
      ],
      "metadata": {
        "id": "hK7QBDNMflvP"
      },
      "execution_count": 14,
      "outputs": []
    },
    {
      "cell_type": "code",
      "source": [
        "plot_fit('Initial Model')"
      ],
      "metadata": {
        "colab": {
          "base_uri": "https://localhost:8080/",
          "height": 430
        },
        "id": "czcxo7jwfxuO",
        "outputId": "fa976af9-2f85-4c51-daea-b1209ec3c648"
      },
      "execution_count": 15,
      "outputs": [
        {
          "output_type": "display_data",
          "data": {
            "text/plain": [
              "<Figure size 640x480 with 1 Axes>"
            ],
            "image/png": "[encoded data removed]"
          },
          "metadata": {}
        }
      ]
    },
    {
      "cell_type": "markdown",
      "source": [
        "### Loss Function, Gradient Descent and Mean Squared Error (MSE)"
      ],
      "metadata": {
        "id": "7OOpRvLShO-O"
      }
    },
    {
      "cell_type": "code",
      "source": [
        "criterion = nn.MSELoss()\n",
        "optimizer = torch.optim.SGD(model.parameters(), lr = 0.001)"
      ],
      "metadata": {
        "id": "f6p01ZaehRc_"
      },
      "execution_count": 27,
      "outputs": []
    },
    {
      "cell_type": "code",
      "source": [
        "epochs = 100\n",
        "losses = []\n",
        "for i in range(epochs):\n",
        "    y_pred = model.forward(X)\n",
        "    loss = criterion(y_pred, y)\n",
        "    print(\"epoch:\", i, \"loss:\", loss.item())\n",
        "    losses.append(loss.item())\n",
        "    optimizer.zero_grad()\n",
        "    loss.backward()\n",
        "    optimizer.step()"
      ],
      "metadata": {
        "colab": {
          "base_uri": "https://localhost:8080/"
        },
        "id": "Pmc_9YTvt6Mk",
        "outputId": "e22e5eb3-44b3-48ab-9160-c58b4b53bd3f"
      },
      "execution_count": 29,
      "outputs": [
        {
          "output_type": "stream",
          "name": "stdout",
          "text": [
            "epoch: 0 loss: 8.389264106750488\n",
            "epoch: 1 loss: 8.389263153076172\n",
            "epoch: 2 loss: 8.389260292053223\n",
            "epoch: 3 loss: 8.389257431030273\n",
            "epoch: 4 loss: 8.38925552368164\n",
            "epoch: 5 loss: 8.389252662658691\n",
            "epoch: 6 loss: 8.389251708984375\n",
            "epoch: 7 loss: 8.38924789428711\n",
            "epoch: 8 loss: 8.389245986938477\n",
            "epoch: 9 loss: 8.389244079589844\n",
            "epoch: 10 loss: 8.389242172241211\n",
            "epoch: 11 loss: 8.389240264892578\n",
            "epoch: 12 loss: 8.389237403869629\n",
            "epoch: 13 loss: 8.389235496520996\n",
            "epoch: 14 loss: 8.389233589172363\n",
            "epoch: 15 loss: 8.38923168182373\n",
            "epoch: 16 loss: 8.389228820800781\n",
            "epoch: 17 loss: 8.389228820800781\n",
            "epoch: 18 loss: 8.389225006103516\n",
            "epoch: 19 loss: 8.3892240524292\n",
            "epoch: 20 loss: 8.389220237731934\n",
            "epoch: 21 loss: 8.3892183303833\n",
            "epoch: 22 loss: 8.389216423034668\n",
            "epoch: 23 loss: 8.389214515686035\n",
            "epoch: 24 loss: 8.389212608337402\n",
            "epoch: 25 loss: 8.38921070098877\n",
            "epoch: 26 loss: 8.389208793640137\n",
            "epoch: 27 loss: 8.389206886291504\n",
            "epoch: 28 loss: 8.389204978942871\n",
            "epoch: 29 loss: 8.389202117919922\n",
            "epoch: 30 loss: 8.389200210571289\n",
            "epoch: 31 loss: 8.389198303222656\n",
            "epoch: 32 loss: 8.389196395874023\n",
            "epoch: 33 loss: 8.389193534851074\n",
            "epoch: 34 loss: 8.389193534851074\n",
            "epoch: 35 loss: 8.389190673828125\n",
            "epoch: 36 loss: 8.389187812805176\n",
            "epoch: 37 loss: 8.38918685913086\n",
            "epoch: 38 loss: 8.389184951782227\n",
            "epoch: 39 loss: 8.389183044433594\n",
            "epoch: 40 loss: 8.389180183410645\n",
            "epoch: 41 loss: 8.389178276062012\n",
            "epoch: 42 loss: 8.389178276062012\n",
            "epoch: 43 loss: 8.389174461364746\n",
            "epoch: 44 loss: 8.389172554016113\n",
            "epoch: 45 loss: 8.389171600341797\n",
            "epoch: 46 loss: 8.389169692993164\n",
            "epoch: 47 loss: 8.389167785644531\n",
            "epoch: 48 loss: 8.389165878295898\n",
            "epoch: 49 loss: 8.389163970947266\n",
            "epoch: 50 loss: 8.389162063598633\n",
            "epoch: 51 loss: 8.38916015625\n",
            "epoch: 52 loss: 8.38915729522705\n",
            "epoch: 53 loss: 8.389156341552734\n",
            "epoch: 54 loss: 8.389153480529785\n",
            "epoch: 55 loss: 8.389153480529785\n",
            "epoch: 56 loss: 8.389150619506836\n",
            "epoch: 57 loss: 8.389148712158203\n",
            "epoch: 58 loss: 8.389147758483887\n",
            "epoch: 59 loss: 8.389145851135254\n",
            "epoch: 60 loss: 8.389143943786621\n",
            "epoch: 61 loss: 8.389142036437988\n",
            "epoch: 62 loss: 8.389140129089355\n",
            "epoch: 63 loss: 8.389139175415039\n",
            "epoch: 64 loss: 8.389135360717773\n",
            "epoch: 65 loss: 8.389134407043457\n",
            "epoch: 66 loss: 8.389132499694824\n",
            "epoch: 67 loss: 8.389132499694824\n",
            "epoch: 68 loss: 8.389129638671875\n",
            "epoch: 69 loss: 8.389128684997559\n",
            "epoch: 70 loss: 8.389126777648926\n",
            "epoch: 71 loss: 8.389123916625977\n",
            "epoch: 72 loss: 8.389123916625977\n",
            "epoch: 73 loss: 8.389121055603027\n",
            "epoch: 74 loss: 8.389119148254395\n",
            "epoch: 75 loss: 8.389117240905762\n",
            "epoch: 76 loss: 8.389116287231445\n",
            "epoch: 77 loss: 8.389114379882812\n",
            "epoch: 78 loss: 8.389113426208496\n",
            "epoch: 79 loss: 8.389111518859863\n",
            "epoch: 80 loss: 8.389108657836914\n",
            "epoch: 81 loss: 8.389106750488281\n",
            "epoch: 82 loss: 8.389106750488281\n",
            "epoch: 83 loss: 8.389104843139648\n",
            "epoch: 84 loss: 8.389102935791016\n",
            "epoch: 85 loss: 8.3891019821167\n",
            "epoch: 86 loss: 8.38909912109375\n",
            "epoch: 87 loss: 8.389097213745117\n",
            "epoch: 88 loss: 8.3890962600708\n",
            "epoch: 89 loss: 8.389095306396484\n",
            "epoch: 90 loss: 8.389093399047852\n",
            "epoch: 91 loss: 8.389091491699219\n",
            "epoch: 92 loss: 8.389089584350586\n",
            "epoch: 93 loss: 8.389087677001953\n",
            "epoch: 94 loss: 8.389086723327637\n",
            "epoch: 95 loss: 8.389084815979004\n",
            "epoch: 96 loss: 8.389084815979004\n",
            "epoch: 97 loss: 8.389081954956055\n",
            "epoch: 98 loss: 8.389080047607422\n",
            "epoch: 99 loss: 8.389080047607422\n"
          ]
        }
      ]
    },
    {
      "cell_type": "code",
      "source": [
        "plt.plot(range(epochs), losses)\n",
        "plt.ylabel('Loss')\n",
        "plt.xlabel('epoch')"
      ],
      "metadata": {
        "colab": {
          "base_uri": "https://localhost:8080/",
          "height": 483
        },
        "id": "eNRDKg4DxqwY",
        "outputId": "0e1e74a8-0277-4d4e-e616-38795974292d"
      },
      "execution_count": 22,
      "outputs": [
        {
          "output_type": "execute_result",
          "data": {
            "text/plain": [
              "Text(0.5, 0, 'epoch')"
            ]
          },
          "metadata": {},
          "execution_count": 22
        },
        {
          "output_type": "display_data",
          "data": {
            "text/plain": [
              "<Figure size 640x480 with 1 Axes>"
            ],
            "image/png": "[encoded data removed]"
          },
          "metadata": {}
        }
      ]
    },
    {
      "cell_type": "code",
      "source": [
        "plot_fit(\"Trained Model\")"
      ],
      "metadata": {
        "colab": {
          "base_uri": "https://localhost:8080/",
          "height": 430
        },
        "id": "D_TeDTRox73w",
        "outputId": "48200940-8f72-4f8d-9d68-34c1de7747f2"
      },
      "execution_count": 23,
      "outputs": [
        {
          "output_type": "display_data",
          "data": {
            "text/plain": [
              "<Figure size 640x480 with 1 Axes>"
            ],
            "image/png": "[encoded data removed]"
          },
          "metadata": {}
        }
      ]
    }
  ]
}